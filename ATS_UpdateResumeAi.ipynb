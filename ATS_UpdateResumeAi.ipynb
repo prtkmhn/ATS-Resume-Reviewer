{
  "cells": [
    {
      "cell_type": "markdown",
      "metadata": {
        "id": "view-in-github",
        "colab_type": "text"
      },
      "source": [
        "<a href=\"https://colab.research.google.com/github/prtkmhn/ATS-Resume-Reviewer/blob/main/ATS_UpdateResumeAi.ipynb\" target=\"_parent\"><img src=\"https://colab.research.google.com/assets/colab-badge.svg\" alt=\"Open In Colab\"/></a>"
      ]
    },
    {
      "cell_type": "markdown",
      "metadata": {
        "id": "IkBYh6KxGwnB"
      },
      "source": []
    },
    {
      "cell_type": "code",
      "source": [
        "! apt install tesseract-ocr\n",
        "! apt install libtesseract-dev"
      ],
      "metadata": {
        "colab": {
          "base_uri": "https://localhost:8080/"
        },
        "id": "D0ts4Fa2P7VZ",
        "outputId": "c6cba380-82ff-462b-ddc7-e5591fa3c16b"
      },
      "execution_count": null,
      "outputs": [
        {
          "output_type": "stream",
          "name": "stdout",
          "text": [
            "Reading package lists... Done\n",
            "Building dependency tree... Done\n",
            "Reading state information... Done\n",
            "The following additional packages will be installed:\n",
            "  tesseract-ocr-eng tesseract-ocr-osd\n",
            "The following NEW packages will be installed:\n",
            "  tesseract-ocr tesseract-ocr-eng tesseract-ocr-osd\n",
            "0 upgraded, 3 newly installed, 0 to remove and 45 not upgraded.\n",
            "Need to get 4,816 kB of archives.\n",
            "After this operation, 15.6 MB of additional disk space will be used.\n",
            "Get:1 http://archive.ubuntu.com/ubuntu jammy/universe amd64 tesseract-ocr-eng all 1:4.00~git30-7274cfa-1.1 [1,591 kB]\n",
            "Get:2 http://archive.ubuntu.com/ubuntu jammy/universe amd64 tesseract-ocr-osd all 1:4.00~git30-7274cfa-1.1 [2,990 kB]\n",
            "Get:3 http://archive.ubuntu.com/ubuntu jammy/universe amd64 tesseract-ocr amd64 4.1.1-2.1build1 [236 kB]\n",
            "Fetched 4,816 kB in 12s (405 kB/s)\n",
            "Selecting previously unselected package tesseract-ocr-eng.\n",
            "(Reading database ... 121885 files and directories currently installed.)\n",
            "Preparing to unpack .../tesseract-ocr-eng_1%3a4.00~git30-7274cfa-1.1_all.deb ...\n",
            "Unpacking tesseract-ocr-eng (1:4.00~git30-7274cfa-1.1) ...\n",
            "Selecting previously unselected package tesseract-ocr-osd.\n",
            "Preparing to unpack .../tesseract-ocr-osd_1%3a4.00~git30-7274cfa-1.1_all.deb ...\n",
            "Unpacking tesseract-ocr-osd (1:4.00~git30-7274cfa-1.1) ...\n",
            "Selecting previously unselected package tesseract-ocr.\n",
            "Preparing to unpack .../tesseract-ocr_4.1.1-2.1build1_amd64.deb ...\n",
            "Unpacking tesseract-ocr (4.1.1-2.1build1) ...\n",
            "Setting up tesseract-ocr-eng (1:4.00~git30-7274cfa-1.1) ...\n",
            "Setting up tesseract-ocr-osd (1:4.00~git30-7274cfa-1.1) ...\n",
            "Setting up tesseract-ocr (4.1.1-2.1build1) ...\n",
            "Processing triggers for man-db (2.10.2-1) ...\n",
            "Reading package lists... Done\n",
            "Building dependency tree... Done\n",
            "Reading state information... Done\n",
            "libtesseract-dev is already the newest version (4.1.1-2.1build1).\n",
            "0 upgraded, 0 newly installed, 0 to remove and 45 not upgraded.\n"
          ]
        }
      ]
    },
    {
      "cell_type": "code",
      "execution_count": null,
      "metadata": {
        "id": "GqJViidAGwnC"
      },
      "outputs": [],
      "source": [
        "!pip install -q gradio python-dotenv google-generativeai pytesseract"
      ]
    },
    {
      "cell_type": "code",
      "execution_count": null,
      "metadata": {
        "id": "ycPt9PrvGwnD"
      },
      "outputs": [],
      "source": [
        "import gradio as gr\n",
        "import google.generativeai as genai\n",
        "from google.colab import userdata\n",
        "from PIL import Image\n",
        "import pytesseract\n",
        "from sklearn.feature_extraction.text import TfidfVectorizer\n",
        "from sklearn.metrics.pairwise import cosine_similarity\n",
        "import os\n",
        "import textwrap\n",
        "from IPython.display import Markdown"
      ]
    },
    {
      "cell_type": "code",
      "execution_count": null,
      "metadata": {
        "id": "luWUNluAGwnE"
      },
      "outputs": [],
      "source": [
        "# Load API key from environment variables\n",
        "from google.colab import userdata\n",
        "\n",
        "genai.configure(api_key=userdata.get(\"GOOGLE_API_KEY\"))"
      ]
    },
    {
      "cell_type": "code",
      "execution_count": null,
      "metadata": {
        "id": "Ow33SF80GwnF"
      },
      "outputs": [],
      "source": [
        "gemini_model = genai.GenerativeModel('gemini-pro')\n",
        "chat = gemini_model.start_chat(history=[])\n"
      ]
    },
    {
      "cell_type": "code",
      "source": [
        "def send_message_to_chat(message):\n",
        "    response = chat.send_message(message)\n",
        "    return response.text"
      ],
      "metadata": {
        "id": "BuJE_Zunekk7"
      },
      "execution_count": null,
      "outputs": []
    },
    {
      "cell_type": "code",
      "execution_count": null,
      "metadata": {
        "id": "qDuEk0pXGwnF"
      },
      "outputs": [],
      "source": [
        "def extract_text(image_path):\n",
        "    image = Image.open(image_path)\n",
        "    return pytesseract.image_to_string(image)\n",
        "\n",
        "def calculate_cosine_similarity(text1, text2):\n",
        "    vectorizer = TfidfVectorizer()\n",
        "    tfidf = vectorizer.fit_transform([text1, text2])\n",
        "    # Convert numpy.float64 to float\n",
        "    return float(cosine_similarity(tfidf[0:1], tfidf[1:2])[0][0])\n",
        "\n",
        "def update_resume(job_info, old_resume, similarity_score):\n",
        "    prompt = f\"\"\"Act Like a skilled or very experience ATS(Application Tracking System) with a deep understanding of tech field,software engineering,data science ,data analyst and big data engineer. Your task is to evaluate the resume based on the given job description. You must consider the job market is very competitive and you should provide\n",
        "best assistance for improving thw resumes. Based on the cosine similarity score of {similarity_score:.2f}, update the resume to better match the job description. Resume: {old_resume} Job Description: {job_info}\n",
        "I want the response as per below structure{{\"JD Match\": \"%\", \"MissingKeywords\": [], \"Profile Summary\": \"\"}}\"\"\"\n",
        "    response = gemini_model.generate_content(prompt)\n",
        "    return response.text"
      ]
    },
    {
      "cell_type": "code",
      "execution_count": null,
      "metadata": {
        "id": "X0-yYzWdGwnH",
        "colab": {
          "base_uri": "https://localhost:8080/",
          "height": 625
        },
        "outputId": "a2965b3b-1ddf-41f3-de74-e51fbc4e5397"
      },
      "outputs": [
        {
          "output_type": "stream",
          "name": "stdout",
          "text": [
            "Colab notebook detected. This cell will run indefinitely so that you can see errors and logs. To turn off, set debug=False in launch().\n",
            "Running on public URL: https://b656c29d90f75dd9bb.gradio.live\n",
            "\n",
            "This share link expires in 72 hours. For free permanent hosting and GPU upgrades, run `gradio deploy` from Terminal to deploy to Spaces (https://huggingface.co/spaces)\n"
          ]
        },
        {
          "output_type": "display_data",
          "data": {
            "text/plain": [
              "<IPython.core.display.HTML object>"
            ],
            "text/html": [
              "<div><iframe src=\"https://b656c29d90f75dd9bb.gradio.live\" width=\"100%\" height=\"500\" allow=\"autoplay; camera; microphone; clipboard-read; clipboard-write;\" frameborder=\"0\" allowfullscreen></iframe></div>"
            ]
          },
          "metadata": {}
        },
        {
          "output_type": "stream",
          "name": "stdout",
          "text": [
            "Keyboard interruption in main thread... closing server.\n",
            "Killing tunnel 127.0.0.1:7860 <> https://b656c29d90f75dd9bb.gradio.live\n"
          ]
        },
        {
          "output_type": "execute_result",
          "data": {
            "text/plain": []
          },
          "metadata": {},
          "execution_count": 28
        }
      ],
      "source": [
        "def process_application(image_path, resume_path):\n",
        "    # Extract text from job description image\n",
        "    job_text = extract_text(image_path)\n",
        "\n",
        "    # Read resume text\n",
        "    with open(resume_path, 'r') as file:\n",
        "        resume_text = file.read()\n",
        "\n",
        "    # Calculate cosine similarity\n",
        "    similarity_score = calculate_cosine_similarity(job_text, resume_text)\n",
        "\n",
        "    # Update resume based on job description and similarity score\n",
        "    updated_resume = update_resume(job_text, resume_text, similarity_score)\n",
        "\n",
        "    # Ensure all outputs are serializable\n",
        "    return job_text, str(similarity_score), updated_resume\n",
        "\n",
        "with gr.Blocks() as demo:\n",
        "    gr.Markdown(\"### Resume and Job Application Assistant\")\n",
        "    with gr.Tab(\"Process Application\"):\n",
        "        with gr.Row():\n",
        "            image_input = gr.Image(type=\"filepath\", label=\"Upload Job Description Image\")\n",
        "            resume_input = gr.File(type=\"filepath\", label=\"Upload Your Resume (txt format)\")\n",
        "            process_button = gr.Button(\"Process Application\")\n",
        "        outputs = [\n",
        "            gr.Textbox(label=\"Extracted Job Info\"),\n",
        "            gr.Number(label=\"Cosine Similarity Score\"),\n",
        "            gr.Textbox(label=\"Updated Resume\")\n",
        "        ]\n",
        "        process_button.click(process_application, inputs=[image_input, resume_input], outputs=outputs)\n",
        "\n",
        "demo.launch(share=True, debug=True)"
      ]
    }
  ],
  "metadata": {
    "kernelspec": {
      "display_name": "Python 3",
      "language": "python",
      "name": "python3"
    },
    "language_info": {
      "codemirror_mode": {
        "name": "ipython",
        "version": 3
      },
      "file_extension": ".py",
      "mimetype": "text/x-python",
      "name": "python",
      "nbconvert_exporter": "python",
      "pygments_lexer": "ipython3",
      "version": "3.11.9"
    },
    "colab": {
      "provenance": [],
      "include_colab_link": true
    }
  },
  "nbformat": 4,
  "nbformat_minor": 0
}